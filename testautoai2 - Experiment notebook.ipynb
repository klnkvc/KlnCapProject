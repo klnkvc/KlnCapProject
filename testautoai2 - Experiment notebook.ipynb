{
 "cells": [
  {
   "cell_type": "markdown",
   "metadata": {},
   "source": [
    "![image](https://github.com/IBM/watson-machine-learning-samples/raw/master/cloud/notebooks/headers/AutoAI-Banner_Experiment-Notebook.png)\n",
    "# Experiment Notebook - AutoAI Notebook v1.19.1\n",
    "\n",
    "\n",
    "This notebook contains the steps and code to demonstrate support of AutoAI experiments in the Watson Machine Learning service. It introduces Python API commands for data retrieval, training experiments, persisting pipelines, testing pipelines, refining pipelines, and scoring the resulting model.\n",
    "\n",
    "**Note:** Notebook code generated using AutoAI will execute successfully. If code is modified or reordered, there is no guarantee it will successfully execute. For details, see: <a href=\"https://dataplatform.cloud.ibm.com/docs/content/wsj/analyze-data/autoai-notebook.html\">Saving an Auto AI experiment as a notebook</a>\n"
   ]
  },
  {
   "cell_type": "markdown",
   "metadata": {},
   "source": [
    "Some familiarity with Python is helpful. This notebook uses Python 3.10 and the `ibm_watson_machine_learning` package.\n",
    "\n",
    "\n",
    "## Notebook goals\n",
    "\n",
    "The learning goals of this notebook are:\n",
    "-  Defining an AutoAI experiment\n",
    "-  Training AutoAI models \n",
    "-  Comparing trained models\n",
    "-  Deploying the model as a web service\n",
    "-  Scoring the model to generate predictions\n",
    "\n",
    "\n",
    "\n",
    "## Contents\n",
    "\n",
    "This notebook contains the following parts:\n",
    "\n",
    "**[Setup](#setup)**<br>\n",
    "&nbsp;&nbsp;[Package installation](#install)<br>\n",
    "&nbsp;&nbsp;[Watson Machine Learning connection](#connection)<br>\n",
    "**[Experiment configuration](#configuration)**<br>\n",
    "&nbsp;&nbsp;[Experiment metadata](#metadata)<br>\n",
    "**[Working with completed AutoAI experiment](#work)**<br>\n",
    "&nbsp;&nbsp;[Get fitted AutoAI optimizer](#get)<br>\n",
    "&nbsp;&nbsp;[Pipelines comparison](#comparison)<br>\n",
    "&nbsp;&nbsp;[Get pipeline as a scikit-learn pipeline model](#get_pipeline)<br>\n",
    "&nbsp;&nbsp;[Inspect pipeline](#inspect_pipeline)<br>\n",
    "&nbsp;&nbsp;&nbsp;&nbsp;[Visualize pipeline model](#visualize)<br>\n",
    "&nbsp;&nbsp;&nbsp;&nbsp;[Preview pipeline model as a Python code](#preview)<br>\n",
    "**[Deploy and Score](#scoring)**<br>\n",
    "&nbsp;&nbsp;[Working with spaces](#working_spaces)<br>\n",
    "**[Running AutoAI experiment with Python API](#run)**<br>\n",
    "**[Clean up](#cleanup)**<br>\n",
    "**[Next steps](#next_steps)**<br>\n",
    "**[Copyrights](#copyrights)**"
   ]
  },
  {
   "cell_type": "markdown",
   "metadata": {},
   "source": [
    "<a id=\"setup\"></a>\n",
    "# Setup"
   ]
  },
  {
   "cell_type": "markdown",
   "metadata": {},
   "source": [
    "<a id=\"install\"></a>\n",
    "## Package installation\n",
    "Before you use the sample code in this notebook, install the following packages:\n",
    " - ibm-watson-machine-learning,\n",
    " - autoai-libs,\n",
    " - lale,\n",
    " - scikit-learn,\n",
    " - xgboost,\n",
    " - lightgbm,\n",
    " - snapml\n"
   ]
  },
  {
   "cell_type": "code",
   "execution_count": 1,
   "metadata": {
    "pycharm": {
     "name": "#%%\n"
    }
   },
   "outputs": [
    {
     "name": "stdout",
     "output_type": "stream",
     "text": [
      "Requirement already satisfied: pyparsing!=3.0.5,>=2.0.2 in /opt/conda/envs/Python-3.10/lib/python3.10/site-packages (from packaging->ibm-watson-machine-learning) (3.0.9)\n",
      "Successfully installed autoai-libs-1.14.13\n",
      "Requirement already satisfied: sortedcontainers~=2.2 in /opt/conda/envs/Python-3.10/lib/python3.10/site-packages (from portion->jsonsubschema>=0.0.6->lale<0.8,>=0.7) (2.4.0)\n",
      "Requirement already satisfied: numpy>=1.17.3 in /opt/conda/envs/Python-3.10/lib/python3.10/site-packages (from scikit-learn==1.1.1) (1.23.1)\n",
      "Requirement already satisfied: scipy in /opt/conda/envs/Python-3.10/lib/python3.10/site-packages (from xgboost==1.6.2) (1.8.1)\n",
      "Requirement already satisfied: joblib>=1.0.0 in /opt/conda/envs/Python-3.10/lib/python3.10/site-packages (from scikit-learn!=0.22.0->lightgbm==3.3.2) (1.1.1)\n",
      "Requirement already satisfied: joblib>=1.0.0 in /opt/conda/envs/Python-3.10/lib/python3.10/site-packages (from scikit-learn->snapml==1.8.12) (1.1.1)\n"
     ]
    }
   ],
   "source": [
    "!pip install ibm-watson-machine-learning | tail -n 1\n",
    "!pip install autoai-libs==1.14.13 | tail -n 1\n",
    "!pip install 'lale>=0.7,<0.8' | tail -n 1\n",
    "!pip install scikit-learn==1.1.1 | tail -n 1\n",
    "!pip install xgboost==1.6.2 | tail -n 1\n",
    "!pip install lightgbm==3.3.2 | tail -n 1\n",
    "!pip install 'snapml==1.8.12' | tail -n 1"
   ]
  },
  {
   "cell_type": "markdown",
   "metadata": {},
   "source": [
    "<a id=\"configuration\"></a>\n",
    "# Experiment configuration"
   ]
  },
  {
   "cell_type": "markdown",
   "metadata": {
    "pycharm": {
     "name": "#%% md\n"
    }
   },
   "source": [
    "<a id=\"metadata\"></a>\n",
    "## Experiment metadata\n",
    "This cell defines the metadata for the experiment, including: training_data_references, training_result_reference, experiment_metadata."
   ]
  },
  {
   "cell_type": "code",
   "execution_count": 2,
   "metadata": {
    "pycharm": {
     "name": "#%%\n"
    }
   },
   "outputs": [],
   "source": [
    "from ibm_watson_machine_learning.helpers import DataConnection\n",
    "from ibm_watson_machine_learning.helpers import ContainerLocation\n",
    "\n",
    "training_data_references = [\n",
    "    DataConnection(\n",
    "        data_asset_id='3feb5328-41e4-4b2c-8a32-60b4abee3509'\n",
    "    ),\n",
    "]\n",
    "training_result_reference = DataConnection(\n",
    "    location=ContainerLocation(\n",
    "        path='auto_ml/a693ed0b-1436-4a86-9b32-4789fbaeae10/wml_data/a86fb369-c8d3-44b9-9836-43322e25e899/data/automl',\n",
    "        model_location='auto_ml/a693ed0b-1436-4a86-9b32-4789fbaeae10/wml_data/a86fb369-c8d3-44b9-9836-43322e25e899/data/automl/model.zip',\n",
    "        training_status='auto_ml/a693ed0b-1436-4a86-9b32-4789fbaeae10/wml_data/a86fb369-c8d3-44b9-9836-43322e25e899/training-status.json'\n",
    "    )\n",
    ")"
   ]
  },
  {
   "cell_type": "code",
   "execution_count": 3,
   "metadata": {
    "pycharm": {
     "name": "#%%\n"
    }
   },
   "outputs": [],
   "source": [
    "experiment_metadata = dict(\n",
    "    prediction_type='multiclass',\n",
    "    prediction_column='quality',\n",
    "    holdout_size=0.1,\n",
    "    scoring='accuracy',\n",
    "    csv_separator=',',\n",
    "    random_state=33,\n",
    "    max_number_of_estimators=4,\n",
    "    training_data_references=training_data_references,\n",
    "    training_result_reference=training_result_reference,\n",
    "    deployment_url='https://us-south.ml.cloud.ibm.com',\n",
    "    project_id='b80d7e3f-d28a-4417-9c62-8e2b70981bc4',\n",
    "    drop_duplicates=True,\n",
    "    include_batched_ensemble_estimators=[]\n",
    ")"
   ]
  },
  {
   "cell_type": "markdown",
   "metadata": {},
   "source": [
    "<a id=\"connection\"></a>\n",
    "## Watson Machine Learning connection\n",
    "\n",
    "This cell defines the credentials required to work with the Watson Machine Learning service.\n",
    "\n",
    "**Action**: Provide the IBM Cloud apikey, For details, see [documentation](https://cloud.ibm.com/docs/account?topic=account-userapikey)."
   ]
  },
  {
   "cell_type": "code",
   "execution_count": 4,
   "metadata": {
    "pycharm": {
     "name": "#%%\n"
    }
   },
   "outputs": [],
   "source": [
    "api_key = 'INSERT API KEY'"
   ]
  },
  {
   "cell_type": "code",
   "execution_count": 5,
   "metadata": {
    "pycharm": {
     "name": "#%%\n"
    }
   },
   "outputs": [],
   "source": [
    "wml_credentials = {\n",
    "    \"apikey\": api_key,\n",
    "    \"url\": experiment_metadata['deployment_url']\n",
    "}"
   ]
  },
  {
   "cell_type": "markdown",
   "metadata": {},
   "source": [
    "<a id=\"work\"></a>\n",
    "\n",
    "\n",
    "# Working with the completed AutoAI experiment\n",
    "\n",
    "This cell imports the pipelines generated for the experiment. The best pipeline will be saved as a model."
   ]
  },
  {
   "cell_type": "markdown",
   "metadata": {},
   "source": [
    "<a id=\"get\"></a>\n",
    "\n",
    "\n",
    "## Get fitted AutoAI optimizer"
   ]
  },
  {
   "cell_type": "code",
   "execution_count": 6,
   "metadata": {
    "pycharm": {
     "name": "#%%\n"
    }
   },
   "outputs": [],
   "source": [
    "from ibm_watson_machine_learning.experiment import AutoAI\n",
    "\n",
    "pipeline_optimizer = AutoAI(wml_credentials, project_id=experiment_metadata['project_id']).runs.get_optimizer(metadata=experiment_metadata)"
   ]
  },
  {
   "cell_type": "markdown",
   "metadata": {},
   "source": [
    "Use `get_params()` to retrieve configuration parameters."
   ]
  },
  {
   "cell_type": "code",
   "execution_count": 7,
   "metadata": {
    "pycharm": {
     "name": "#%%\n"
    }
   },
   "outputs": [
    {
     "data": {
      "text/plain": [
       "{'name': 'testautoai2',\n",
       " 'desc': '',\n",
       " 'prediction_type': 'classification',\n",
       " 'prediction_column': 'quality',\n",
       " 'prediction_columns': None,\n",
       " 'timestamp_column_name': None,\n",
       " 'scoring': 'accuracy',\n",
       " 'holdout_size': 0.1,\n",
       " 'max_num_daub_ensembles': 4,\n",
       " 't_shirt_size': 'a6c4923b-b8e4-444c-9f43-8a7ec3020110',\n",
       " 'train_sample_rows_test_size': None,\n",
       " 'include_only_estimators': None,\n",
       " 'include_batched_ensemble_estimators': None,\n",
       " 'backtest_num': None,\n",
       " 'lookback_window': None,\n",
       " 'forecast_window': None,\n",
       " 'backtest_gap_length': None,\n",
       " 'cognito_transform_names': None,\n",
       " 'data_join_graph': False,\n",
       " 'csv_separator': ',',\n",
       " 'excel_sheet': None,\n",
       " 'encoding': 'utf-8',\n",
       " 'positive_label': None,\n",
       " 'drop_duplicates': True,\n",
       " 'outliers_columns': None,\n",
       " 'text_processing': None,\n",
       " 'word2vec_feature_number': None,\n",
       " 'daub_give_priority_to_runtime': None,\n",
       " 'text_columns_names': None,\n",
       " 'sampling_type': None,\n",
       " 'sample_size_limit': None,\n",
       " 'sample_rows_limit': None,\n",
       " 'sample_percentage_limit': None,\n",
       " 'number_of_batch_rows': None,\n",
       " 'n_parallel_data_connections': None,\n",
       " 'test_data_csv_separator': ',',\n",
       " 'test_data_excel_sheet': None,\n",
       " 'test_data_encoding': 'utf-8',\n",
       " 'categorical_imputation_strategy': None,\n",
       " 'numerical_imputation_strategy': None,\n",
       " 'numerical_imputation_value': None,\n",
       " 'imputation_threshold': None,\n",
       " 'retrain_on_holdout': None,\n",
       " 'feature_columns': None,\n",
       " 'pipeline_types': None,\n",
       " 'supporting_features_at_forecast': None,\n",
       " 'numerical_columns': None,\n",
       " 'categorical_columns': None,\n",
       " 'confidence_level': None,\n",
       " 'incremental_learning': None,\n",
       " 'early_stop_enabled': None,\n",
       " 'early_stop_window_size': None,\n",
       " 'run_id': 'a86fb369-c8d3-44b9-9836-43322e25e899'}"
      ]
     },
     "execution_count": 7,
     "metadata": {},
     "output_type": "execute_result"
    }
   ],
   "source": [
    "pipeline_optimizer.get_params()"
   ]
  },
  {
   "cell_type": "markdown",
   "metadata": {
    "pycharm": {
     "name": "#%% md\n"
    }
   },
   "source": [
    "<a id=\"comparison\"></a>\n",
    "## Pipelines comparison\n",
    "\n",
    "Use the `summary()` method to list trained pipelines and evaluation metrics information in\n",
    "the form of a Pandas DataFrame. You can use the DataFrame to compare all discovered pipelines and select the one you like for further testing."
   ]
  },
  {
   "cell_type": "code",
   "execution_count": 8,
   "metadata": {
    "pycharm": {
     "name": "#%%\n"
    }
   },
   "outputs": [
    {
     "data": {
      "text/html": [
       "<div>\n",
       "<style scoped>\n",
       "    .dataframe tbody tr th:only-of-type {\n",
       "        vertical-align: middle;\n",
       "    }\n",
       "\n",
       "    .dataframe tbody tr th {\n",
       "        vertical-align: top;\n",
       "    }\n",
       "\n",
       "    .dataframe thead th {\n",
       "        text-align: right;\n",
       "    }\n",
       "</style>\n",
       "<table border=\"1\" class=\"dataframe\">\n",
       "  <thead>\n",
       "    <tr style=\"text-align: right;\">\n",
       "      <th></th>\n",
       "      <th>Enhancements</th>\n",
       "      <th>Estimator</th>\n",
       "      <th>training_accuracy_(optimized)</th>\n",
       "      <th>training_precision_weighted</th>\n",
       "      <th>holdout_f1_weighted</th>\n",
       "      <th>holdout_f1_macro</th>\n",
       "      <th>holdout_recall_micro</th>\n",
       "      <th>training_precision_macro</th>\n",
       "      <th>training_recall_micro</th>\n",
       "      <th>training_precision_micro</th>\n",
       "      <th>...</th>\n",
       "      <th>training_recall_weighted</th>\n",
       "      <th>holdout_precision_macro</th>\n",
       "      <th>holdout_precision_weighted</th>\n",
       "      <th>holdout_recall_weighted</th>\n",
       "      <th>holdout_accuracy</th>\n",
       "      <th>holdout_f1_micro</th>\n",
       "      <th>training_f1_micro</th>\n",
       "      <th>holdout_precision_micro</th>\n",
       "      <th>training_recall_macro</th>\n",
       "      <th>training_f1_weighted</th>\n",
       "    </tr>\n",
       "    <tr>\n",
       "      <th>Pipeline Name</th>\n",
       "      <th></th>\n",
       "      <th></th>\n",
       "      <th></th>\n",
       "      <th></th>\n",
       "      <th></th>\n",
       "      <th></th>\n",
       "      <th></th>\n",
       "      <th></th>\n",
       "      <th></th>\n",
       "      <th></th>\n",
       "      <th></th>\n",
       "      <th></th>\n",
       "      <th></th>\n",
       "      <th></th>\n",
       "      <th></th>\n",
       "      <th></th>\n",
       "      <th></th>\n",
       "      <th></th>\n",
       "      <th></th>\n",
       "      <th></th>\n",
       "      <th></th>\n",
       "    </tr>\n",
       "  </thead>\n",
       "  <tbody>\n",
       "    <tr>\n",
       "      <th>Pipeline_1</th>\n",
       "      <td></td>\n",
       "      <td>XGBClassifier</td>\n",
       "      <td>0.621577</td>\n",
       "      <td>0.604428</td>\n",
       "      <td>0.656955</td>\n",
       "      <td>0.440969</td>\n",
       "      <td>0.669565</td>\n",
       "      <td>0.353256</td>\n",
       "      <td>0.621577</td>\n",
       "      <td>0.621577</td>\n",
       "      <td>...</td>\n",
       "      <td>0.621577</td>\n",
       "      <td>0.493459</td>\n",
       "      <td>0.648515</td>\n",
       "      <td>0.669565</td>\n",
       "      <td>0.669565</td>\n",
       "      <td>0.669565</td>\n",
       "      <td>0.621577</td>\n",
       "      <td>0.669565</td>\n",
       "      <td>0.334830</td>\n",
       "      <td>0.611392</td>\n",
       "    </tr>\n",
       "    <tr>\n",
       "      <th>Pipeline_2</th>\n",
       "      <td>HPO</td>\n",
       "      <td>XGBClassifier</td>\n",
       "      <td>0.621577</td>\n",
       "      <td>0.604428</td>\n",
       "      <td>0.656955</td>\n",
       "      <td>0.440969</td>\n",
       "      <td>0.669565</td>\n",
       "      <td>0.353256</td>\n",
       "      <td>0.621577</td>\n",
       "      <td>0.621577</td>\n",
       "      <td>...</td>\n",
       "      <td>0.621577</td>\n",
       "      <td>0.493459</td>\n",
       "      <td>0.648515</td>\n",
       "      <td>0.669565</td>\n",
       "      <td>0.669565</td>\n",
       "      <td>0.669565</td>\n",
       "      <td>0.621577</td>\n",
       "      <td>0.669565</td>\n",
       "      <td>0.334830</td>\n",
       "      <td>0.611392</td>\n",
       "    </tr>\n",
       "    <tr>\n",
       "      <th>Pipeline_3</th>\n",
       "      <td>HPO, FE</td>\n",
       "      <td>XGBClassifier</td>\n",
       "      <td>0.631335</td>\n",
       "      <td>0.616637</td>\n",
       "      <td>0.656922</td>\n",
       "      <td>0.443598</td>\n",
       "      <td>0.669565</td>\n",
       "      <td>0.402179</td>\n",
       "      <td>0.631335</td>\n",
       "      <td>0.631335</td>\n",
       "      <td>...</td>\n",
       "      <td>0.631335</td>\n",
       "      <td>0.499829</td>\n",
       "      <td>0.649534</td>\n",
       "      <td>0.669565</td>\n",
       "      <td>0.669565</td>\n",
       "      <td>0.669565</td>\n",
       "      <td>0.631335</td>\n",
       "      <td>0.669565</td>\n",
       "      <td>0.342039</td>\n",
       "      <td>0.620829</td>\n",
       "    </tr>\n",
       "    <tr>\n",
       "      <th>Pipeline_4</th>\n",
       "      <td>HPO, FE, HPO</td>\n",
       "      <td>XGBClassifier</td>\n",
       "      <td>0.631335</td>\n",
       "      <td>0.616637</td>\n",
       "      <td>0.656922</td>\n",
       "      <td>0.443598</td>\n",
       "      <td>0.669565</td>\n",
       "      <td>0.402179</td>\n",
       "      <td>0.631335</td>\n",
       "      <td>0.631335</td>\n",
       "      <td>...</td>\n",
       "      <td>0.631335</td>\n",
       "      <td>0.499829</td>\n",
       "      <td>0.649534</td>\n",
       "      <td>0.669565</td>\n",
       "      <td>0.669565</td>\n",
       "      <td>0.669565</td>\n",
       "      <td>0.631335</td>\n",
       "      <td>0.669565</td>\n",
       "      <td>0.342039</td>\n",
       "      <td>0.620829</td>\n",
       "    </tr>\n",
       "    <tr>\n",
       "      <th>Pipeline_12</th>\n",
       "      <td>HPO, FE, HPO</td>\n",
       "      <td>LGBMClassifier</td>\n",
       "      <td>0.625467</td>\n",
       "      <td>0.610409</td>\n",
       "      <td>0.645953</td>\n",
       "      <td>0.330154</td>\n",
       "      <td>0.660870</td>\n",
       "      <td>0.389247</td>\n",
       "      <td>0.625467</td>\n",
       "      <td>0.625467</td>\n",
       "      <td>...</td>\n",
       "      <td>0.625467</td>\n",
       "      <td>0.328070</td>\n",
       "      <td>0.635001</td>\n",
       "      <td>0.660870</td>\n",
       "      <td>0.660870</td>\n",
       "      <td>0.660870</td>\n",
       "      <td>0.625467</td>\n",
       "      <td>0.660870</td>\n",
       "      <td>0.331858</td>\n",
       "      <td>0.613392</td>\n",
       "    </tr>\n",
       "    <tr>\n",
       "      <th>Pipeline_9</th>\n",
       "      <td></td>\n",
       "      <td>LGBMClassifier</td>\n",
       "      <td>0.606997</td>\n",
       "      <td>0.594965</td>\n",
       "      <td>0.632220</td>\n",
       "      <td>0.336159</td>\n",
       "      <td>0.643478</td>\n",
       "      <td>0.332429</td>\n",
       "      <td>0.606997</td>\n",
       "      <td>0.606997</td>\n",
       "      <td>...</td>\n",
       "      <td>0.606997</td>\n",
       "      <td>0.339220</td>\n",
       "      <td>0.622992</td>\n",
       "      <td>0.643478</td>\n",
       "      <td>0.643478</td>\n",
       "      <td>0.643478</td>\n",
       "      <td>0.606997</td>\n",
       "      <td>0.643478</td>\n",
       "      <td>0.326239</td>\n",
       "      <td>0.599509</td>\n",
       "    </tr>\n",
       "    <tr>\n",
       "      <th>Pipeline_11</th>\n",
       "      <td>HPO, FE</td>\n",
       "      <td>LGBMClassifier</td>\n",
       "      <td>0.623534</td>\n",
       "      <td>0.608805</td>\n",
       "      <td>0.620996</td>\n",
       "      <td>0.435303</td>\n",
       "      <td>0.626087</td>\n",
       "      <td>0.336962</td>\n",
       "      <td>0.623534</td>\n",
       "      <td>0.623534</td>\n",
       "      <td>...</td>\n",
       "      <td>0.623534</td>\n",
       "      <td>0.491339</td>\n",
       "      <td>0.621170</td>\n",
       "      <td>0.626087</td>\n",
       "      <td>0.626087</td>\n",
       "      <td>0.626087</td>\n",
       "      <td>0.623534</td>\n",
       "      <td>0.626087</td>\n",
       "      <td>0.333774</td>\n",
       "      <td>0.613999</td>\n",
       "    </tr>\n",
       "    <tr>\n",
       "      <th>Pipeline_7</th>\n",
       "      <td>HPO, FE</td>\n",
       "      <td>ExtraTreesClassifier</td>\n",
       "      <td>0.618655</td>\n",
       "      <td>0.612173</td>\n",
       "      <td>0.599556</td>\n",
       "      <td>0.302260</td>\n",
       "      <td>0.608696</td>\n",
       "      <td>0.338333</td>\n",
       "      <td>0.618655</td>\n",
       "      <td>0.618655</td>\n",
       "      <td>...</td>\n",
       "      <td>0.618655</td>\n",
       "      <td>0.293709</td>\n",
       "      <td>0.591890</td>\n",
       "      <td>0.608696</td>\n",
       "      <td>0.608696</td>\n",
       "      <td>0.608696</td>\n",
       "      <td>0.618655</td>\n",
       "      <td>0.608696</td>\n",
       "      <td>0.340020</td>\n",
       "      <td>0.612876</td>\n",
       "    </tr>\n",
       "    <tr>\n",
       "      <th>Pipeline_8</th>\n",
       "      <td>HPO, FE, HPO</td>\n",
       "      <td>ExtraTreesClassifier</td>\n",
       "      <td>0.618655</td>\n",
       "      <td>0.612173</td>\n",
       "      <td>0.599556</td>\n",
       "      <td>0.302260</td>\n",
       "      <td>0.608696</td>\n",
       "      <td>0.338333</td>\n",
       "      <td>0.618655</td>\n",
       "      <td>0.618655</td>\n",
       "      <td>...</td>\n",
       "      <td>0.618655</td>\n",
       "      <td>0.293709</td>\n",
       "      <td>0.591890</td>\n",
       "      <td>0.608696</td>\n",
       "      <td>0.608696</td>\n",
       "      <td>0.608696</td>\n",
       "      <td>0.618655</td>\n",
       "      <td>0.608696</td>\n",
       "      <td>0.340020</td>\n",
       "      <td>0.612876</td>\n",
       "    </tr>\n",
       "    <tr>\n",
       "      <th>Pipeline_14</th>\n",
       "      <td>HPO</td>\n",
       "      <td>SnapRandomForestClassifier</td>\n",
       "      <td>0.607008</td>\n",
       "      <td>0.578101</td>\n",
       "      <td>0.581995</td>\n",
       "      <td>0.269800</td>\n",
       "      <td>0.608696</td>\n",
       "      <td>0.295118</td>\n",
       "      <td>0.607008</td>\n",
       "      <td>0.607008</td>\n",
       "      <td>...</td>\n",
       "      <td>0.607008</td>\n",
       "      <td>0.294289</td>\n",
       "      <td>0.586136</td>\n",
       "      <td>0.608696</td>\n",
       "      <td>0.608696</td>\n",
       "      <td>0.608696</td>\n",
       "      <td>0.607008</td>\n",
       "      <td>0.608696</td>\n",
       "      <td>0.279580</td>\n",
       "      <td>0.585434</td>\n",
       "    </tr>\n",
       "    <tr>\n",
       "      <th>Pipeline_10</th>\n",
       "      <td>HPO</td>\n",
       "      <td>LGBMClassifier</td>\n",
       "      <td>0.607014</td>\n",
       "      <td>0.597700</td>\n",
       "      <td>0.569185</td>\n",
       "      <td>0.304476</td>\n",
       "      <td>0.573913</td>\n",
       "      <td>0.337880</td>\n",
       "      <td>0.607014</td>\n",
       "      <td>0.607014</td>\n",
       "      <td>...</td>\n",
       "      <td>0.607014</td>\n",
       "      <td>0.314054</td>\n",
       "      <td>0.567412</td>\n",
       "      <td>0.573913</td>\n",
       "      <td>0.573913</td>\n",
       "      <td>0.573913</td>\n",
       "      <td>0.607014</td>\n",
       "      <td>0.573913</td>\n",
       "      <td>0.333209</td>\n",
       "      <td>0.599969</td>\n",
       "    </tr>\n",
       "    <tr>\n",
       "      <th>Pipeline_15</th>\n",
       "      <td>HPO, FE</td>\n",
       "      <td>SnapRandomForestClassifier</td>\n",
       "      <td>0.630331</td>\n",
       "      <td>0.605564</td>\n",
       "      <td>0.549206</td>\n",
       "      <td>0.273263</td>\n",
       "      <td>0.565217</td>\n",
       "      <td>0.387811</td>\n",
       "      <td>0.630331</td>\n",
       "      <td>0.630331</td>\n",
       "      <td>...</td>\n",
       "      <td>0.630331</td>\n",
       "      <td>0.269359</td>\n",
       "      <td>0.534589</td>\n",
       "      <td>0.565217</td>\n",
       "      <td>0.565217</td>\n",
       "      <td>0.565217</td>\n",
       "      <td>0.630331</td>\n",
       "      <td>0.565217</td>\n",
       "      <td>0.324884</td>\n",
       "      <td>0.613605</td>\n",
       "    </tr>\n",
       "    <tr>\n",
       "      <th>Pipeline_16</th>\n",
       "      <td>HPO, FE, HPO</td>\n",
       "      <td>SnapRandomForestClassifier</td>\n",
       "      <td>0.630331</td>\n",
       "      <td>0.605564</td>\n",
       "      <td>0.549206</td>\n",
       "      <td>0.273263</td>\n",
       "      <td>0.565217</td>\n",
       "      <td>0.387811</td>\n",
       "      <td>0.630331</td>\n",
       "      <td>0.630331</td>\n",
       "      <td>...</td>\n",
       "      <td>0.630331</td>\n",
       "      <td>0.269359</td>\n",
       "      <td>0.534589</td>\n",
       "      <td>0.565217</td>\n",
       "      <td>0.565217</td>\n",
       "      <td>0.565217</td>\n",
       "      <td>0.630331</td>\n",
       "      <td>0.565217</td>\n",
       "      <td>0.324884</td>\n",
       "      <td>0.613605</td>\n",
       "    </tr>\n",
       "    <tr>\n",
       "      <th>Pipeline_5</th>\n",
       "      <td></td>\n",
       "      <td>ExtraTreesClassifier</td>\n",
       "      <td>0.611884</td>\n",
       "      <td>0.604356</td>\n",
       "      <td>0.545823</td>\n",
       "      <td>0.274585</td>\n",
       "      <td>0.556522</td>\n",
       "      <td>0.337960</td>\n",
       "      <td>0.611884</td>\n",
       "      <td>0.611884</td>\n",
       "      <td>...</td>\n",
       "      <td>0.611884</td>\n",
       "      <td>0.267222</td>\n",
       "      <td>0.536442</td>\n",
       "      <td>0.556522</td>\n",
       "      <td>0.556522</td>\n",
       "      <td>0.556522</td>\n",
       "      <td>0.611884</td>\n",
       "      <td>0.556522</td>\n",
       "      <td>0.339307</td>\n",
       "      <td>0.606140</td>\n",
       "    </tr>\n",
       "    <tr>\n",
       "      <th>Pipeline_6</th>\n",
       "      <td>HPO</td>\n",
       "      <td>ExtraTreesClassifier</td>\n",
       "      <td>0.611884</td>\n",
       "      <td>0.604356</td>\n",
       "      <td>0.545823</td>\n",
       "      <td>0.274585</td>\n",
       "      <td>0.556522</td>\n",
       "      <td>0.337960</td>\n",
       "      <td>0.611884</td>\n",
       "      <td>0.611884</td>\n",
       "      <td>...</td>\n",
       "      <td>0.611884</td>\n",
       "      <td>0.267222</td>\n",
       "      <td>0.536442</td>\n",
       "      <td>0.556522</td>\n",
       "      <td>0.556522</td>\n",
       "      <td>0.556522</td>\n",
       "      <td>0.611884</td>\n",
       "      <td>0.556522</td>\n",
       "      <td>0.339307</td>\n",
       "      <td>0.606140</td>\n",
       "    </tr>\n",
       "    <tr>\n",
       "      <th>Pipeline_13</th>\n",
       "      <td></td>\n",
       "      <td>SnapRandomForestClassifier</td>\n",
       "      <td>0.605056</td>\n",
       "      <td>0.577466</td>\n",
       "      <td>0.526394</td>\n",
       "      <td>0.236852</td>\n",
       "      <td>0.556522</td>\n",
       "      <td>0.342367</td>\n",
       "      <td>0.605056</td>\n",
       "      <td>0.605056</td>\n",
       "      <td>...</td>\n",
       "      <td>0.605056</td>\n",
       "      <td>0.255438</td>\n",
       "      <td>0.517800</td>\n",
       "      <td>0.556522</td>\n",
       "      <td>0.556522</td>\n",
       "      <td>0.556522</td>\n",
       "      <td>0.605056</td>\n",
       "      <td>0.556522</td>\n",
       "      <td>0.295761</td>\n",
       "      <td>0.586492</td>\n",
       "    </tr>\n",
       "  </tbody>\n",
       "</table>\n",
       "<p>16 rows × 24 columns</p>\n",
       "</div>"
      ],
      "text/plain": [
       "               Enhancements                   Estimator  \\\n",
       "Pipeline Name                                             \n",
       "Pipeline_1                                XGBClassifier   \n",
       "Pipeline_2              HPO               XGBClassifier   \n",
       "Pipeline_3          HPO, FE               XGBClassifier   \n",
       "Pipeline_4     HPO, FE, HPO               XGBClassifier   \n",
       "Pipeline_12    HPO, FE, HPO              LGBMClassifier   \n",
       "Pipeline_9                               LGBMClassifier   \n",
       "Pipeline_11         HPO, FE              LGBMClassifier   \n",
       "Pipeline_7          HPO, FE        ExtraTreesClassifier   \n",
       "Pipeline_8     HPO, FE, HPO        ExtraTreesClassifier   \n",
       "Pipeline_14             HPO  SnapRandomForestClassifier   \n",
       "Pipeline_10             HPO              LGBMClassifier   \n",
       "Pipeline_15         HPO, FE  SnapRandomForestClassifier   \n",
       "Pipeline_16    HPO, FE, HPO  SnapRandomForestClassifier   \n",
       "Pipeline_5                         ExtraTreesClassifier   \n",
       "Pipeline_6              HPO        ExtraTreesClassifier   \n",
       "Pipeline_13                  SnapRandomForestClassifier   \n",
       "\n",
       "               training_accuracy_(optimized)  training_precision_weighted  \\\n",
       "Pipeline Name                                                               \n",
       "Pipeline_1                          0.621577                     0.604428   \n",
       "Pipeline_2                          0.621577                     0.604428   \n",
       "Pipeline_3                          0.631335                     0.616637   \n",
       "Pipeline_4                          0.631335                     0.616637   \n",
       "Pipeline_12                         0.625467                     0.610409   \n",
       "Pipeline_9                          0.606997                     0.594965   \n",
       "Pipeline_11                         0.623534                     0.608805   \n",
       "Pipeline_7                          0.618655                     0.612173   \n",
       "Pipeline_8                          0.618655                     0.612173   \n",
       "Pipeline_14                         0.607008                     0.578101   \n",
       "Pipeline_10                         0.607014                     0.597700   \n",
       "Pipeline_15                         0.630331                     0.605564   \n",
       "Pipeline_16                         0.630331                     0.605564   \n",
       "Pipeline_5                          0.611884                     0.604356   \n",
       "Pipeline_6                          0.611884                     0.604356   \n",
       "Pipeline_13                         0.605056                     0.577466   \n",
       "\n",
       "               holdout_f1_weighted  holdout_f1_macro  holdout_recall_micro  \\\n",
       "Pipeline Name                                                                \n",
       "Pipeline_1                0.656955          0.440969              0.669565   \n",
       "Pipeline_2                0.656955          0.440969              0.669565   \n",
       "Pipeline_3                0.656922          0.443598              0.669565   \n",
       "Pipeline_4                0.656922          0.443598              0.669565   \n",
       "Pipeline_12               0.645953          0.330154              0.660870   \n",
       "Pipeline_9                0.632220          0.336159              0.643478   \n",
       "Pipeline_11               0.620996          0.435303              0.626087   \n",
       "Pipeline_7                0.599556          0.302260              0.608696   \n",
       "Pipeline_8                0.599556          0.302260              0.608696   \n",
       "Pipeline_14               0.581995          0.269800              0.608696   \n",
       "Pipeline_10               0.569185          0.304476              0.573913   \n",
       "Pipeline_15               0.549206          0.273263              0.565217   \n",
       "Pipeline_16               0.549206          0.273263              0.565217   \n",
       "Pipeline_5                0.545823          0.274585              0.556522   \n",
       "Pipeline_6                0.545823          0.274585              0.556522   \n",
       "Pipeline_13               0.526394          0.236852              0.556522   \n",
       "\n",
       "               training_precision_macro  training_recall_micro  \\\n",
       "Pipeline Name                                                    \n",
       "Pipeline_1                     0.353256               0.621577   \n",
       "Pipeline_2                     0.353256               0.621577   \n",
       "Pipeline_3                     0.402179               0.631335   \n",
       "Pipeline_4                     0.402179               0.631335   \n",
       "Pipeline_12                    0.389247               0.625467   \n",
       "Pipeline_9                     0.332429               0.606997   \n",
       "Pipeline_11                    0.336962               0.623534   \n",
       "Pipeline_7                     0.338333               0.618655   \n",
       "Pipeline_8                     0.338333               0.618655   \n",
       "Pipeline_14                    0.295118               0.607008   \n",
       "Pipeline_10                    0.337880               0.607014   \n",
       "Pipeline_15                    0.387811               0.630331   \n",
       "Pipeline_16                    0.387811               0.630331   \n",
       "Pipeline_5                     0.337960               0.611884   \n",
       "Pipeline_6                     0.337960               0.611884   \n",
       "Pipeline_13                    0.342367               0.605056   \n",
       "\n",
       "               training_precision_micro  ...  training_recall_weighted  \\\n",
       "Pipeline Name                            ...                             \n",
       "Pipeline_1                     0.621577  ...                  0.621577   \n",
       "Pipeline_2                     0.621577  ...                  0.621577   \n",
       "Pipeline_3                     0.631335  ...                  0.631335   \n",
       "Pipeline_4                     0.631335  ...                  0.631335   \n",
       "Pipeline_12                    0.625467  ...                  0.625467   \n",
       "Pipeline_9                     0.606997  ...                  0.606997   \n",
       "Pipeline_11                    0.623534  ...                  0.623534   \n",
       "Pipeline_7                     0.618655  ...                  0.618655   \n",
       "Pipeline_8                     0.618655  ...                  0.618655   \n",
       "Pipeline_14                    0.607008  ...                  0.607008   \n",
       "Pipeline_10                    0.607014  ...                  0.607014   \n",
       "Pipeline_15                    0.630331  ...                  0.630331   \n",
       "Pipeline_16                    0.630331  ...                  0.630331   \n",
       "Pipeline_5                     0.611884  ...                  0.611884   \n",
       "Pipeline_6                     0.611884  ...                  0.611884   \n",
       "Pipeline_13                    0.605056  ...                  0.605056   \n",
       "\n",
       "               holdout_precision_macro  holdout_precision_weighted  \\\n",
       "Pipeline Name                                                        \n",
       "Pipeline_1                    0.493459                    0.648515   \n",
       "Pipeline_2                    0.493459                    0.648515   \n",
       "Pipeline_3                    0.499829                    0.649534   \n",
       "Pipeline_4                    0.499829                    0.649534   \n",
       "Pipeline_12                   0.328070                    0.635001   \n",
       "Pipeline_9                    0.339220                    0.622992   \n",
       "Pipeline_11                   0.491339                    0.621170   \n",
       "Pipeline_7                    0.293709                    0.591890   \n",
       "Pipeline_8                    0.293709                    0.591890   \n",
       "Pipeline_14                   0.294289                    0.586136   \n",
       "Pipeline_10                   0.314054                    0.567412   \n",
       "Pipeline_15                   0.269359                    0.534589   \n",
       "Pipeline_16                   0.269359                    0.534589   \n",
       "Pipeline_5                    0.267222                    0.536442   \n",
       "Pipeline_6                    0.267222                    0.536442   \n",
       "Pipeline_13                   0.255438                    0.517800   \n",
       "\n",
       "               holdout_recall_weighted  holdout_accuracy  holdout_f1_micro  \\\n",
       "Pipeline Name                                                                \n",
       "Pipeline_1                    0.669565          0.669565          0.669565   \n",
       "Pipeline_2                    0.669565          0.669565          0.669565   \n",
       "Pipeline_3                    0.669565          0.669565          0.669565   \n",
       "Pipeline_4                    0.669565          0.669565          0.669565   \n",
       "Pipeline_12                   0.660870          0.660870          0.660870   \n",
       "Pipeline_9                    0.643478          0.643478          0.643478   \n",
       "Pipeline_11                   0.626087          0.626087          0.626087   \n",
       "Pipeline_7                    0.608696          0.608696          0.608696   \n",
       "Pipeline_8                    0.608696          0.608696          0.608696   \n",
       "Pipeline_14                   0.608696          0.608696          0.608696   \n",
       "Pipeline_10                   0.573913          0.573913          0.573913   \n",
       "Pipeline_15                   0.565217          0.565217          0.565217   \n",
       "Pipeline_16                   0.565217          0.565217          0.565217   \n",
       "Pipeline_5                    0.556522          0.556522          0.556522   \n",
       "Pipeline_6                    0.556522          0.556522          0.556522   \n",
       "Pipeline_13                   0.556522          0.556522          0.556522   \n",
       "\n",
       "               training_f1_micro  holdout_precision_micro  \\\n",
       "Pipeline Name                                               \n",
       "Pipeline_1              0.621577                 0.669565   \n",
       "Pipeline_2              0.621577                 0.669565   \n",
       "Pipeline_3              0.631335                 0.669565   \n",
       "Pipeline_4              0.631335                 0.669565   \n",
       "Pipeline_12             0.625467                 0.660870   \n",
       "Pipeline_9              0.606997                 0.643478   \n",
       "Pipeline_11             0.623534                 0.626087   \n",
       "Pipeline_7              0.618655                 0.608696   \n",
       "Pipeline_8              0.618655                 0.608696   \n",
       "Pipeline_14             0.607008                 0.608696   \n",
       "Pipeline_10             0.607014                 0.573913   \n",
       "Pipeline_15             0.630331                 0.565217   \n",
       "Pipeline_16             0.630331                 0.565217   \n",
       "Pipeline_5              0.611884                 0.556522   \n",
       "Pipeline_6              0.611884                 0.556522   \n",
       "Pipeline_13             0.605056                 0.556522   \n",
       "\n",
       "               training_recall_macro  training_f1_weighted  \n",
       "Pipeline Name                                               \n",
       "Pipeline_1                  0.334830              0.611392  \n",
       "Pipeline_2                  0.334830              0.611392  \n",
       "Pipeline_3                  0.342039              0.620829  \n",
       "Pipeline_4                  0.342039              0.620829  \n",
       "Pipeline_12                 0.331858              0.613392  \n",
       "Pipeline_9                  0.326239              0.599509  \n",
       "Pipeline_11                 0.333774              0.613999  \n",
       "Pipeline_7                  0.340020              0.612876  \n",
       "Pipeline_8                  0.340020              0.612876  \n",
       "Pipeline_14                 0.279580              0.585434  \n",
       "Pipeline_10                 0.333209              0.599969  \n",
       "Pipeline_15                 0.324884              0.613605  \n",
       "Pipeline_16                 0.324884              0.613605  \n",
       "Pipeline_5                  0.339307              0.606140  \n",
       "Pipeline_6                  0.339307              0.606140  \n",
       "Pipeline_13                 0.295761              0.586492  \n",
       "\n",
       "[16 rows x 24 columns]"
      ]
     },
     "execution_count": 8,
     "metadata": {},
     "output_type": "execute_result"
    }
   ],
   "source": [
    "summary = pipeline_optimizer.summary()\n",
    "best_pipeline_name = list(summary.index)[0]\n",
    "summary"
   ]
  },
  {
   "cell_type": "markdown",
   "metadata": {},
   "source": [
    "<a id=\"get_pipeline\"></a>\n",
    "### Get pipeline as a scikit-learn pipeline model\n",
    "\n",
    "After you compare the pipelines, download and save a scikit-learn pipeline model object from the\n",
    "AutoAI training job.\n",
    "\n",
    "**Tip:** To get a specific pipeline, pass the pipeline name in:\n",
    "```\n",
    "pipeline_optimizer.get_pipeline(pipeline_name=pipeline_name)\n",
    "```"
   ]
  },
  {
   "cell_type": "code",
   "execution_count": 9,
   "metadata": {
    "pycharm": {
     "name": "#%%\n"
    }
   },
   "outputs": [],
   "source": [
    "pipeline_model = pipeline_optimizer.get_pipeline(pipeline_name=best_pipeline_name)"
   ]
  },
  {
   "cell_type": "markdown",
   "metadata": {},
   "source": [
    "Next, check the importance of features for selected pipeline."
   ]
  },
  {
   "cell_type": "code",
   "execution_count": 10,
   "metadata": {
    "pycharm": {
     "name": "#%%\n"
    }
   },
   "outputs": [
    {
     "data": {
      "text/html": [
       "<div>\n",
       "<style scoped>\n",
       "    .dataframe tbody tr th:only-of-type {\n",
       "        vertical-align: middle;\n",
       "    }\n",
       "\n",
       "    .dataframe tbody tr th {\n",
       "        vertical-align: top;\n",
       "    }\n",
       "\n",
       "    .dataframe thead th {\n",
       "        text-align: right;\n",
       "    }\n",
       "</style>\n",
       "<table border=\"1\" class=\"dataframe\">\n",
       "  <thead>\n",
       "    <tr style=\"text-align: right;\">\n",
       "      <th></th>\n",
       "      <th>features_importance</th>\n",
       "    </tr>\n",
       "  </thead>\n",
       "  <tbody>\n",
       "    <tr>\n",
       "      <th>alcohol</th>\n",
       "      <td>1.00</td>\n",
       "    </tr>\n",
       "    <tr>\n",
       "      <th>sulphates</th>\n",
       "      <td>0.46</td>\n",
       "    </tr>\n",
       "    <tr>\n",
       "      <th>volatile acidity</th>\n",
       "      <td>0.31</td>\n",
       "    </tr>\n",
       "    <tr>\n",
       "      <th>total sulfur dioxide</th>\n",
       "      <td>0.18</td>\n",
       "    </tr>\n",
       "    <tr>\n",
       "      <th>free sulfur dioxide</th>\n",
       "      <td>0.15</td>\n",
       "    </tr>\n",
       "    <tr>\n",
       "      <th>fixed acidity</th>\n",
       "      <td>0.14</td>\n",
       "    </tr>\n",
       "    <tr>\n",
       "      <th>pH</th>\n",
       "      <td>0.08</td>\n",
       "    </tr>\n",
       "    <tr>\n",
       "      <th>density</th>\n",
       "      <td>0.05</td>\n",
       "    </tr>\n",
       "    <tr>\n",
       "      <th>residual sugar</th>\n",
       "      <td>0.04</td>\n",
       "    </tr>\n",
       "    <tr>\n",
       "      <th>citric acid</th>\n",
       "      <td>0.02</td>\n",
       "    </tr>\n",
       "    <tr>\n",
       "      <th>chlorides</th>\n",
       "      <td>0.00</td>\n",
       "    </tr>\n",
       "  </tbody>\n",
       "</table>\n",
       "</div>"
      ],
      "text/plain": [
       "                      features_importance\n",
       "alcohol                              1.00\n",
       "sulphates                            0.46\n",
       "volatile acidity                     0.31\n",
       "total sulfur dioxide                 0.18\n",
       "free sulfur dioxide                  0.15\n",
       "fixed acidity                        0.14\n",
       "pH                                   0.08\n",
       "density                              0.05\n",
       "residual sugar                       0.04\n",
       "citric acid                          0.02\n",
       "chlorides                            0.00"
      ]
     },
     "execution_count": 10,
     "metadata": {},
     "output_type": "execute_result"
    }
   ],
   "source": [
    "pipeline_optimizer.get_pipeline_details()['features_importance']"
   ]
  },
  {
   "cell_type": "markdown",
   "metadata": {},
   "source": [
    "**Tip:** If you want to check all the details of the model evaluation metrics, use:\n",
    "```\n",
    "pipeline_optimizer.get_pipeline_details()\n",
    "```"
   ]
  },
  {
   "cell_type": "markdown",
   "metadata": {},
   "source": [
    "<a id=\"inspect_pipeline\"></a>\n",
    "## Inspect pipeline"
   ]
  },
  {
   "cell_type": "markdown",
   "metadata": {},
   "source": [
    "<a id=\"visualize\"></a>\n",
    "### Visualize pipeline model\n",
    "\n",
    "Preview pipeline model stages as a graph. Each node's name links to a detailed description of the stage.\n"
   ]
  },
  {
   "cell_type": "code",
   "execution_count": 11,
   "metadata": {
    "pycharm": {
     "name": "#%%\n"
    }
   },
   "outputs": [
    {
     "data": {
      "image/svg+xml": [
       "<?xml version=\"1.0\" encoding=\"UTF-8\" standalone=\"no\"?>\n",
       "<!DOCTYPE svg PUBLIC \"-//W3C//DTD SVG 1.1//EN\"\n",
       " \"http://www.w3.org/Graphics/SVG/1.1/DTD/svg11.dtd\">\n",
       "<!-- Generated by graphviz version 2.50.0 (0)\n",
       " -->\n",
       "<!-- Title: cluster:(root) Pages: 1 -->\n",
       "<svg width=\"879pt\" height=\"82pt\"\n",
       " viewBox=\"0.00 0.00 879.43 81.54\" xmlns=\"http://www.w3.org/2000/svg\" xmlns:xlink=\"http://www.w3.org/1999/xlink\">\n",
       "<g id=\"graph0\" class=\"graph\" transform=\"scale(1 1) rotate(0) translate(4 77.54)\">\n",
       "<title>cluster:(root)</title>\n",
       "<g id=\"a_graph0\"><a xlink:title=\"(root) = ...\">\n",
       "<polygon fill=\"white\" stroke=\"transparent\" points=\"-4,4 -4,-77.54 875.43,-77.54 875.43,4 -4,4\"/>\n",
       "</a>\n",
       "</g>\n",
       "<!-- column_selector -->\n",
       "<g id=\"node1\" class=\"node\">\n",
       "<title>column_selector</title>\n",
       "<g id=\"a_node1\"><a xlink:href=\"https://lale.readthedocs.io/en/latest/modules/lale.lib.autoai_libs.column_selector.html&quot; target=&quot;_blank&quot; rel=&quot;noopener noreferrer\" xlink:title=\"column_selector = ColumnSelector(columns_indices_list=[0, 1, 2, 3, 4, 5, 6, 7, 8, 9, 10])\">\n",
       "<ellipse fill=\"white\" stroke=\"black\" cx=\"38.18\" cy=\"-36.77\" rx=\"38.37\" ry=\"19.6\"/>\n",
       "<text text-anchor=\"middle\" x=\"38.18\" y=\"-39.97\" font-family=\"Times,serif\" font-size=\"11.00\">Column&#45;</text>\n",
       "<text text-anchor=\"middle\" x=\"38.18\" y=\"-27.97\" font-family=\"Times,serif\" font-size=\"11.00\">Selector</text>\n",
       "</a>\n",
       "</g>\n",
       "</g>\n",
       "<!-- numpy_column_selector -->\n",
       "<g id=\"node2\" class=\"node\">\n",
       "<title>numpy_column_selector</title>\n",
       "<g id=\"a_node2\"><a xlink:href=\"https://lale.readthedocs.io/en/latest/modules/lale.lib.autoai_libs.numpy_column_selector.html&quot; target=&quot;_blank&quot; rel=&quot;noopener noreferrer\" xlink:title=\"numpy_column_selector = NumpyColumnSelector(columns=[0, 1, 2, 3, 4, 5, 6, 7, 8, 9, 10])\">\n",
       "<ellipse fill=\"white\" stroke=\"black\" cx=\"150.55\" cy=\"-36.77\" rx=\"38.37\" ry=\"28.07\"/>\n",
       "<text text-anchor=\"middle\" x=\"150.55\" y=\"-45.97\" font-family=\"Times,serif\" font-size=\"11.00\">Numpy&#45;</text>\n",
       "<text text-anchor=\"middle\" x=\"150.55\" y=\"-33.97\" font-family=\"Times,serif\" font-size=\"11.00\">Column&#45;</text>\n",
       "<text text-anchor=\"middle\" x=\"150.55\" y=\"-21.97\" font-family=\"Times,serif\" font-size=\"11.00\">Selector</text>\n",
       "</a>\n",
       "</g>\n",
       "</g>\n",
       "<!-- column_selector&#45;&gt;numpy_column_selector -->\n",
       "<g id=\"edge1\" class=\"edge\">\n",
       "<title>column_selector&#45;&gt;numpy_column_selector</title>\n",
       "<path fill=\"none\" stroke=\"black\" d=\"M76.55,-36.77C84.73,-36.77 93.5,-36.77 102.01,-36.77\"/>\n",
       "<polygon fill=\"black\" stroke=\"black\" points=\"102.22,-40.27 112.22,-36.77 102.22,-33.27 102.22,-40.27\"/>\n",
       "</g>\n",
       "<!-- float_str2_float -->\n",
       "<g id=\"node3\" class=\"node\">\n",
       "<title>float_str2_float</title>\n",
       "<g id=\"a_node3\"><a xlink:href=\"https://lale.readthedocs.io/en/latest/modules/lale.lib.autoai_libs.float_str2_float.html&quot; target=&quot;_blank&quot; rel=&quot;noopener noreferrer\" xlink:title=\"float_str2_float = FloatStr2Float(dtypes_list=[&#39;float_num&#39;, &#39;float_num&#39;, &#39;float_num&#39;, &#39;float_num&#39;, &#39;float_num&#39;, &#39;float_num&#39;, &#39;float_num&#39;, &#39;float_num&#39;, &#39;float_num&#39;, &#39;float_num&#39;, &#39;float_num&#39;], missing_values_reference_list=[])\">\n",
       "<ellipse fill=\"white\" stroke=\"black\" cx=\"252.31\" cy=\"-36.77\" rx=\"27.65\" ry=\"28.07\"/>\n",
       "<text text-anchor=\"middle\" x=\"252.31\" y=\"-45.97\" font-family=\"Times,serif\" font-size=\"11.00\">Float&#45;</text>\n",
       "<text text-anchor=\"middle\" x=\"252.31\" y=\"-33.97\" font-family=\"Times,serif\" font-size=\"11.00\">Str2&#45;</text>\n",
       "<text text-anchor=\"middle\" x=\"252.31\" y=\"-21.97\" font-family=\"Times,serif\" font-size=\"11.00\">Float</text>\n",
       "</a>\n",
       "</g>\n",
       "</g>\n",
       "<!-- numpy_column_selector&#45;&gt;float_str2_float -->\n",
       "<g id=\"edge2\" class=\"edge\">\n",
       "<title>numpy_column_selector&#45;&gt;float_str2_float</title>\n",
       "<path fill=\"none\" stroke=\"black\" d=\"M188.98,-36.77C197.3,-36.77 206.11,-36.77 214.41,-36.77\"/>\n",
       "<polygon fill=\"black\" stroke=\"black\" points=\"214.57,-40.27 224.57,-36.77 214.57,-33.27 214.57,-40.27\"/>\n",
       "</g>\n",
       "<!-- numpy_replace_missing_values -->\n",
       "<g id=\"node4\" class=\"node\">\n",
       "<title>numpy_replace_missing_values</title>\n",
       "<g id=\"a_node4\"><a xlink:href=\"https://lale.readthedocs.io/en/latest/modules/lale.lib.autoai_libs.numpy_replace_missing_values.html&quot; target=&quot;_blank&quot; rel=&quot;noopener noreferrer\" xlink:title=\"numpy_replace_missing_values = NumpyReplaceMissingValues(missing_values=[], filling_values=float(&#39;nan&#39;))\">\n",
       "<ellipse fill=\"white\" stroke=\"black\" cx=\"355.49\" cy=\"-36.77\" rx=\"39.7\" ry=\"36.54\"/>\n",
       "<text text-anchor=\"middle\" x=\"355.49\" y=\"-51.97\" font-family=\"Times,serif\" font-size=\"11.00\">Numpy&#45;</text>\n",
       "<text text-anchor=\"middle\" x=\"355.49\" y=\"-39.97\" font-family=\"Times,serif\" font-size=\"11.00\">Replace&#45;</text>\n",
       "<text text-anchor=\"middle\" x=\"355.49\" y=\"-27.97\" font-family=\"Times,serif\" font-size=\"11.00\">Missing&#45;</text>\n",
       "<text text-anchor=\"middle\" x=\"355.49\" y=\"-15.97\" font-family=\"Times,serif\" font-size=\"11.00\">Values</text>\n",
       "</a>\n",
       "</g>\n",
       "</g>\n",
       "<!-- float_str2_float&#45;&gt;numpy_replace_missing_values -->\n",
       "<g id=\"edge3\" class=\"edge\">\n",
       "<title>float_str2_float&#45;&gt;numpy_replace_missing_values</title>\n",
       "<path fill=\"none\" stroke=\"black\" d=\"M279.89,-36.77C287.72,-36.77 296.55,-36.77 305.32,-36.77\"/>\n",
       "<polygon fill=\"black\" stroke=\"black\" points=\"305.52,-40.27 315.52,-36.77 305.52,-33.27 305.52,-40.27\"/>\n",
       "</g>\n",
       "<!-- num_imputer -->\n",
       "<g id=\"node5\" class=\"node\">\n",
       "<title>num_imputer</title>\n",
       "<g id=\"a_node5\"><a xlink:href=\"https://lale.readthedocs.io/en/latest/modules/lale.lib.autoai_libs.num_imputer.html&quot; target=&quot;_blank&quot; rel=&quot;noopener noreferrer\" xlink:title=\"num_imputer = NumImputer(missing_values=float(&#39;nan&#39;), strategy=&#39;median&#39;)\">\n",
       "<ellipse fill=\"white\" stroke=\"black\" cx=\"467.15\" cy=\"-36.77\" rx=\"36.12\" ry=\"19.6\"/>\n",
       "<text text-anchor=\"middle\" x=\"467.15\" y=\"-39.97\" font-family=\"Times,serif\" font-size=\"11.00\">Num&#45;</text>\n",
       "<text text-anchor=\"middle\" x=\"467.15\" y=\"-27.97\" font-family=\"Times,serif\" font-size=\"11.00\">Imputer</text>\n",
       "</a>\n",
       "</g>\n",
       "</g>\n",
       "<!-- numpy_replace_missing_values&#45;&gt;num_imputer -->\n",
       "<g id=\"edge4\" class=\"edge\">\n",
       "<title>numpy_replace_missing_values&#45;&gt;num_imputer</title>\n",
       "<path fill=\"none\" stroke=\"black\" d=\"M395.15,-36.77C403.39,-36.77 412.17,-36.77 420.64,-36.77\"/>\n",
       "<polygon fill=\"black\" stroke=\"black\" points=\"420.76,-40.27 430.76,-36.77 420.76,-33.27 420.76,-40.27\"/>\n",
       "</g>\n",
       "<!-- opt_standard_scaler -->\n",
       "<g id=\"node6\" class=\"node\">\n",
       "<title>opt_standard_scaler</title>\n",
       "<g id=\"a_node6\"><a xlink:href=\"https://lale.readthedocs.io/en/latest/modules/lale.lib.autoai_libs.opt_standard_scaler.html&quot; target=&quot;_blank&quot; rel=&quot;noopener noreferrer\" xlink:title=\"opt_standard_scaler = OptStandardScaler(use_scaler_flag=False)\">\n",
       "<ellipse fill=\"white\" stroke=\"black\" cx=\"583.05\" cy=\"-36.77\" rx=\"43.68\" ry=\"28.07\"/>\n",
       "<text text-anchor=\"middle\" x=\"583.05\" y=\"-45.97\" font-family=\"Times,serif\" font-size=\"11.00\">Opt&#45;</text>\n",
       "<text text-anchor=\"middle\" x=\"583.05\" y=\"-33.97\" font-family=\"Times,serif\" font-size=\"11.00\">Standard&#45;</text>\n",
       "<text text-anchor=\"middle\" x=\"583.05\" y=\"-21.97\" font-family=\"Times,serif\" font-size=\"11.00\">Scaler</text>\n",
       "</a>\n",
       "</g>\n",
       "</g>\n",
       "<!-- num_imputer&#45;&gt;opt_standard_scaler -->\n",
       "<g id=\"edge5\" class=\"edge\">\n",
       "<title>num_imputer&#45;&gt;opt_standard_scaler</title>\n",
       "<path fill=\"none\" stroke=\"black\" d=\"M503.25,-36.77C511.33,-36.77 520.11,-36.77 528.76,-36.77\"/>\n",
       "<polygon fill=\"black\" stroke=\"black\" points=\"528.83,-40.27 538.83,-36.77 528.83,-33.27 528.83,-40.27\"/>\n",
       "</g>\n",
       "<!-- float32_transform -->\n",
       "<g id=\"node7\" class=\"node\">\n",
       "<title>float32_transform</title>\n",
       "<g id=\"a_node7\"><a xlink:href=\"https://lale.readthedocs.io/en/latest/modules/lale.lib.autoai_libs.float32_transform.html&quot; target=&quot;_blank&quot; rel=&quot;noopener noreferrer\" xlink:title=\"float32_transform = float32_transform()\">\n",
       "<ellipse fill=\"white\" stroke=\"black\" cx=\"707.44\" cy=\"-36.77\" rx=\"44.6\" ry=\"19.6\"/>\n",
       "<text text-anchor=\"middle\" x=\"707.44\" y=\"-39.97\" font-family=\"Times,serif\" font-size=\"11.00\">float32_&#45;</text>\n",
       "<text text-anchor=\"middle\" x=\"707.44\" y=\"-27.97\" font-family=\"Times,serif\" font-size=\"11.00\">transform</text>\n",
       "</a>\n",
       "</g>\n",
       "</g>\n",
       "<!-- opt_standard_scaler&#45;&gt;float32_transform -->\n",
       "<g id=\"edge6\" class=\"edge\">\n",
       "<title>opt_standard_scaler&#45;&gt;float32_transform</title>\n",
       "<path fill=\"none\" stroke=\"black\" d=\"M627.2,-36.77C635.42,-36.77 644.12,-36.77 652.62,-36.77\"/>\n",
       "<polygon fill=\"black\" stroke=\"black\" points=\"652.85,-40.27 662.85,-36.77 652.85,-33.27 652.85,-40.27\"/>\n",
       "</g>\n",
       "<!-- xgb_classifier -->\n",
       "<g id=\"node8\" class=\"node\">\n",
       "<title>xgb_classifier</title>\n",
       "<g id=\"a_node8\"><a xlink:href=\"https://lale.readthedocs.io/en/latest/modules/lale.lib.xgboost.xgb_classifier.html&quot; target=&quot;_blank&quot; rel=&quot;noopener noreferrer\" xlink:title=\"xgb_classifier = XGBClassifier(objective=&#39;multi:softprob&#39;, base_score=0.5, booster=&#39;gbtree&#39;, colsample_bylevel=1, colsample_bynode=1, colsample_bytree=1, gamma=0, gpu_id=&#45;1, grow_policy=&#39;depthwise&#39;, interaction_constraints=&#39;&#39;, learning_rate=0.300000012, max_bin=256, max_cat_to_oneho...)\">\n",
       "<ellipse fill=\"white\" stroke=\"black\" cx=\"829.71\" cy=\"-36.77\" rx=\"41.94\" ry=\"19.6\"/>\n",
       "<text text-anchor=\"middle\" x=\"829.71\" y=\"-39.97\" font-family=\"Times,serif\" font-size=\"11.00\">XGB&#45;</text>\n",
       "<text text-anchor=\"middle\" x=\"829.71\" y=\"-27.97\" font-family=\"Times,serif\" font-size=\"11.00\">Classifier</text>\n",
       "</a>\n",
       "</g>\n",
       "</g>\n",
       "<!-- float32_transform&#45;&gt;xgb_classifier -->\n",
       "<g id=\"edge7\" class=\"edge\">\n",
       "<title>float32_transform&#45;&gt;xgb_classifier</title>\n",
       "<path fill=\"none\" stroke=\"black\" d=\"M752.2,-36.77C760.51,-36.77 769.27,-36.77 777.77,-36.77\"/>\n",
       "<polygon fill=\"black\" stroke=\"black\" points=\"777.98,-40.27 787.98,-36.77 777.98,-33.27 777.98,-40.27\"/>\n",
       "</g>\n",
       "</g>\n",
       "</svg>\n"
      ],
      "text/plain": [
       "<graphviz.graphs.Digraph at 0x7f01b3f5e500>"
      ]
     },
     "metadata": {},
     "output_type": "display_data"
    }
   ],
   "source": [
    "pipeline_model.visualize()"
   ]
  },
  {
   "cell_type": "markdown",
   "metadata": {},
   "source": [
    "<a id=\"preview\"></a>\n",
    "### Preview pipeline model as a Python code\n",
    "In the next cell, you can preview the saved pipeline model as a Python code.  \n",
    "You can review the exact steps used to create the model.\n",
    "\n",
    "**Note:** If you want to get sklearn representation, add the following parameter to the `pretty_print` call: `astype='sklearn'`."
   ]
  },
  {
   "cell_type": "code",
   "execution_count": 12,
   "metadata": {
    "pycharm": {
     "name": "#%%\n"
    }
   },
   "outputs": [
    {
     "data": {
      "text/markdown": [
       "```python\n",
       "from autoai_libs.transformers.exportable import ColumnSelector\n",
       "from autoai_libs.transformers.exportable import NumpyColumnSelector\n",
       "from autoai_libs.transformers.exportable import FloatStr2Float\n",
       "from autoai_libs.transformers.exportable import NumpyReplaceMissingValues\n",
       "from autoai_libs.transformers.exportable import NumImputer\n",
       "from autoai_libs.transformers.exportable import OptStandardScaler\n",
       "from autoai_libs.transformers.exportable import float32_transform\n",
       "from xgboost import XGBClassifier\n",
       "from lale.operators import make_pipeline\n",
       "\n",
       "column_selector = ColumnSelector(\n",
       "    columns_indices_list=[0, 1, 2, 3, 4, 5, 6, 7, 8, 9, 10]\n",
       ")\n",
       "numpy_column_selector = NumpyColumnSelector(\n",
       "    columns=[0, 1, 2, 3, 4, 5, 6, 7, 8, 9, 10]\n",
       ")\n",
       "float_str2_float = FloatStr2Float(\n",
       "    dtypes_list=[\n",
       "        \"float_num\", \"float_num\", \"float_num\", \"float_num\", \"float_num\",\n",
       "        \"float_num\", \"float_num\", \"float_num\", \"float_num\", \"float_num\",\n",
       "        \"float_num\",\n",
       "    ],\n",
       "    missing_values_reference_list=[],\n",
       ")\n",
       "numpy_replace_missing_values = NumpyReplaceMissingValues(\n",
       "    missing_values=[], filling_values=float(\"nan\")\n",
       ")\n",
       "num_imputer = NumImputer(missing_values=float(\"nan\"), strategy=\"median\")\n",
       "opt_standard_scaler = OptStandardScaler(use_scaler_flag=False)\n",
       "xgb_classifier = XGBClassifier(\n",
       "    objective=\"multi:softprob\",\n",
       "    base_score=0.5,\n",
       "    booster=\"gbtree\",\n",
       "    colsample_bylevel=1,\n",
       "    colsample_bynode=1,\n",
       "    colsample_bytree=1,\n",
       "    gamma=0,\n",
       "    gpu_id=-1,\n",
       "    grow_policy=\"depthwise\",\n",
       "    interaction_constraints=\"\",\n",
       "    learning_rate=0.300000012,\n",
       "    max_bin=256,\n",
       "    max_cat_to_onehot=4,\n",
       "    max_delta_step=0,\n",
       "    max_depth=3,\n",
       "    max_leaves=0,\n",
       "    min_child_weight=1,\n",
       "    missing=float(\"nan\"),\n",
       "    monotone_constraints=\"()\",\n",
       "    n_jobs=2,\n",
       "    num_parallel_tree=1,\n",
       "    predictor=\"auto\",\n",
       "    random_state=33,\n",
       "    reg_alpha=0,\n",
       "    reg_lambda=1,\n",
       "    sampling_method=\"uniform\",\n",
       "    subsample=1,\n",
       "    tree_method=\"hist\",\n",
       "    validate_parameters=1,\n",
       "    verbosity=0,\n",
       "    nthread=2,\n",
       "    silent=True,\n",
       "    seed=33,\n",
       ")\n",
       "pipeline = make_pipeline(\n",
       "    column_selector,\n",
       "    numpy_column_selector,\n",
       "    float_str2_float,\n",
       "    numpy_replace_missing_values,\n",
       "    num_imputer,\n",
       "    opt_standard_scaler,\n",
       "    float32_transform(),\n",
       "    xgb_classifier,\n",
       ")\n",
       "```"
      ],
      "text/plain": [
       "<IPython.core.display.Markdown object>"
      ]
     },
     "metadata": {},
     "output_type": "display_data"
    }
   ],
   "source": [
    "pipeline_model.pretty_print(combinators=False, ipython_display=True)"
   ]
  },
  {
   "cell_type": "markdown",
   "metadata": {},
   "source": [
    "### Calling the `predict` method\n",
    "If you want to get a prediction by using the pipeline model object, call `pipeline_model.predict()`.\n",
    "\n",
    "**Note:** If you want to work with a pure sklearn model:\n",
    " - add the following parameter to the `get_pipeline` call: `astype='sklearn'`,\n",
    " - or `scikit_learn_pipeline = pipeline_model.export_to_sklearn_pipeline()`"
   ]
  },
  {
   "cell_type": "markdown",
   "metadata": {
    "tags": []
   },
   "source": [
    "<a id=\"scoring\"></a>\n",
    "## Deploy and Score\n",
    "\n",
    "In this section you will learn how to deploy and score the model as a web service."
   ]
  },
  {
   "cell_type": "markdown",
   "metadata": {},
   "source": [
    "<a id=\"working_spaces\"></a>\n",
    "### Working with spaces\n",
    "\n",
    "In this section you will specify a deployment space to organize assets and then deploy and score the model. If you do not have an existing space, you can use the [Deployment Spaces Dashboard](https://dataplatform.cloud.ibm.com/ml-runtime/spaces?context=cpdaas) to create a new space. Follow these steps:\n",
    "\n",
    "- Click **New Deployment Space**\n",
    "- Create an empty space\n",
    "- Select Cloud Object Storage\n",
    "- Select Watson Machine Learning instance and press **Create**\n",
    "- Copy `space_id` and paste it below\n",
    "\n",
    "**Tip**: You can also use the API to prepare the space for your work. Learn more [here](https://github.com/IBM/watson-machine-learning-samples/blob/master/cloud/notebooks/python_sdk/instance-management/Space%20management.ipynb).\n",
    "\n",
    "**Action**: Assign or update space ID below."
   ]
  },
  {
   "cell_type": "markdown",
   "metadata": {},
   "source": [
    "### Deployment creation"
   ]
  },
  {
   "cell_type": "code",
   "execution_count": 13,
   "metadata": {
    "pycharm": {
     "name": "#%%\n"
    }
   },
   "outputs": [
    {
     "name": "stdout",
     "output_type": "stream",
     "text": [
      "Preparing an AutoAI Deployment...\n",
      "Published model uid: c7f9cd0d-ab95-4900-98d3-940b6d2b5160\n",
      "Deploying model c7f9cd0d-ab95-4900-98d3-940b6d2b5160 using V4 client.\n",
      "\n",
      "\n",
      "#######################################################################################\n",
      "\n",
      "Synchronous deployment creation for uid: 'c7f9cd0d-ab95-4900-98d3-940b6d2b5160' started\n",
      "\n",
      "#######################################################################################\n",
      "\n",
      "\n",
      "initializing\n",
      "Note: online_url is deprecated and will be removed in a future release. Use serving_urls instead.\n",
      "..\n",
      "ready\n",
      "\n",
      "\n",
      "------------------------------------------------------------------------------------------------\n",
      "Successfully finished deployment creation, deployment_uid='7b98af75-d8b2-4e22-b5ac-7189c1529d6a'\n",
      "------------------------------------------------------------------------------------------------\n",
      "\n",
      "\n"
     ]
    }
   ],
   "source": [
    "target_space_id = \"INSERT TARGET SPACE ID\"\n",
    "\n",
    "from ibm_watson_machine_learning.deployment import WebService\n",
    "\n",
    "service = WebService(\n",
    "    source_wml_credentials=wml_credentials,\n",
    "    target_wml_credentials=wml_credentials,\n",
    "    source_project_id=experiment_metadata['project_id'],\n",
    "    target_space_id=target_space_id\n",
    ")\n",
    "service.create(\n",
    "    model=best_pipeline_name,\n",
    "    metadata=experiment_metadata,\n",
    "    deployment_name='Best_pipeline_webservice'\n",
    ")"
   ]
  },
  {
   "cell_type": "markdown",
   "metadata": {},
   "source": [
    "Use the `print` method for the deployment object to show basic information about the service: "
   ]
  },
  {
   "cell_type": "code",
   "execution_count": 14,
   "metadata": {
    "pycharm": {
     "name": "#%%\n"
    }
   },
   "outputs": [
    {
     "name": "stdout",
     "output_type": "stream",
     "text": [
      "name: Best_pipeline_webservice, id: 7b98af75-d8b2-4e22-b5ac-7189c1529d6a, scoring_url: https://us-south.ml.cloud.ibm.com/ml/v4/deployments/7b98af75-d8b2-4e22-b5ac-7189c1529d6a/predictions, asset_id: c7f9cd0d-ab95-4900-98d3-940b6d2b5160\n"
     ]
    }
   ],
   "source": [
    "print(service)"
   ]
  },
  {
   "cell_type": "markdown",
   "metadata": {},
   "source": [
    "To show all available information about the deployment, use the `.get_params()` method."
   ]
  },
  {
   "cell_type": "code",
   "execution_count": 15,
   "metadata": {
    "pycharm": {
     "name": "#%%\n"
    }
   },
   "outputs": [
    {
     "name": "stdout",
     "output_type": "stream",
     "text": [
      "Note: online_url is deprecated and will be removed in a future release. Use serving_urls instead.\n"
     ]
    },
    {
     "data": {
      "text/plain": [
       "{'entity': {'asset': {'id': 'c7f9cd0d-ab95-4900-98d3-940b6d2b5160'},\n",
       "  'custom': {},\n",
       "  'deployed_asset_type': 'model',\n",
       "  'hybrid_pipeline_hardware_specs': [{'hardware_spec': {'name': 'S',\n",
       "     'num_nodes': 1},\n",
       "    'node_runtime_id': 'auto_ai.kb'}],\n",
       "  'name': 'Best_pipeline_webservice',\n",
       "  'online': {},\n",
       "  'space_id': '126c347c-1637-4289-90fb-95532d6dd2f3',\n",
       "  'status': {'online_url': {'url': 'https://us-south.ml.cloud.ibm.com/ml/v4/deployments/7b98af75-d8b2-4e22-b5ac-7189c1529d6a/predictions'},\n",
       "   'serving_urls': ['https://us-south.ml.cloud.ibm.com/ml/v4/deployments/7b98af75-d8b2-4e22-b5ac-7189c1529d6a/predictions'],\n",
       "   'state': 'ready'}},\n",
       " 'metadata': {'created_at': '2023-06-29T15:02:10.665Z',\n",
       "  'id': '7b98af75-d8b2-4e22-b5ac-7189c1529d6a',\n",
       "  'modified_at': '2023-06-29T15:02:10.665Z',\n",
       "  'name': 'Best_pipeline_webservice',\n",
       "  'owner': 'IBMid-665003DUMT',\n",
       "  'space_id': '126c347c-1637-4289-90fb-95532d6dd2f3'},\n",
       " 'system': {'warnings': [{'id': 'Deprecated',\n",
       "    'message': 'online_url is deprecated and will be removed in a future release. Use serving_urls instead.'}]}}"
      ]
     },
     "execution_count": 15,
     "metadata": {},
     "output_type": "execute_result"
    }
   ],
   "source": [
    "service.get_params()"
   ]
  },
  {
   "cell_type": "markdown",
   "metadata": {},
   "source": [
    "### Scoring of webservice\n",
    "You can make a scoring request by calling `score()` on the deployed pipeline."
   ]
  },
  {
   "cell_type": "markdown",
   "metadata": {},
   "source": [
    "If you want to work with the web service in an external Python application, follow these steps to retrieve the service object:\n",
    "\n",
    " - Initialize the service by `service = WebService(target_wml_credentials=wml_credentials,target_space_id=experiment_metadata['space_id'])`\n",
    " - Get deployment_id: `service.list()`\n",
    " - Get webservice object: `service.get('deployment_id')`\n",
    "\n",
    "After that you can call `service.score(score_records_df)` method. The `score()` method accepts `pandas.DataFrame` objects. "
   ]
  },
  {
   "cell_type": "markdown",
   "metadata": {},
   "source": [
    "<a id=\"cleanup\"></a>\n",
    "### Deleting deployment\n",
    "You can delete the existing deployment by calling the `service.delete()` command.\n",
    "To list the existing web services, use the `service.list()` method."
   ]
  },
  {
   "cell_type": "markdown",
   "metadata": {},
   "source": [
    "<a id=\"run\"></a>\n",
    "\n",
    "## Running the AutoAI experiment with Python API"
   ]
  },
  {
   "cell_type": "markdown",
   "metadata": {},
   "source": [
    "If you want to run the AutoAI experiment using the Python API, follow these steps. The experiment settings were generated basing on parameters set in the AutoAI UI.\n"
   ]
  },
  {
   "cell_type": "markdown",
   "metadata": {
    "pycharm": {
     "name": "#%%\n"
    }
   },
   "source": [
    "```\n",
    "from ibm_watson_machine_learning.experiment import AutoAI\n",
    "\n",
    "experiment = AutoAI(wml_credentials, project_id=experiment_metadata['project_id'])\n",
    "```"
   ]
  },
  {
   "cell_type": "markdown",
   "metadata": {},
   "source": [
    "```\n",
    "OPTIMIZER_NAME = 'custom_name'\n",
    "```"
   ]
  },
  {
   "cell_type": "markdown",
   "metadata": {
    "pycharm": {
     "name": "#%% raw\n"
    }
   },
   "source": [
    "```\n",
    "from ibm_watson_machine_learning.helpers import DataConnection\n",
    "from ibm_watson_machine_learning.helpers import ContainerLocation\n",
    "\n",
    "training_data_references = [\n",
    "    DataConnection(\n",
    "        data_asset_id='3feb5328-41e4-4b2c-8a32-60b4abee3509'\n",
    "    ),\n",
    "]\n",
    "training_result_reference = DataConnection(\n",
    "    location=ContainerLocation(\n",
    "        path='auto_ml/a693ed0b-1436-4a86-9b32-4789fbaeae10/wml_data/a86fb369-c8d3-44b9-9836-43322e25e899/data/automl',\n",
    "        model_location='auto_ml/a693ed0b-1436-4a86-9b32-4789fbaeae10/wml_data/a86fb369-c8d3-44b9-9836-43322e25e899/data/automl/model.zip',\n",
    "        training_status='auto_ml/a693ed0b-1436-4a86-9b32-4789fbaeae10/wml_data/a86fb369-c8d3-44b9-9836-43322e25e899/training-status.json'\n",
    "    )\n",
    ")\n",
    "```"
   ]
  },
  {
   "cell_type": "markdown",
   "metadata": {},
   "source": [
    "The new pipeline optimizer will be created and training will be triggered."
   ]
  },
  {
   "cell_type": "markdown",
   "metadata": {
    "pycharm": {
     "name": "#%%raw\n"
    }
   },
   "source": [
    "```\n",
    "pipeline_optimizer = experiment.optimizer(\n",
    "    name=OPTIMIZER_NAME,\n",
    "    prediction_type=experiment_metadata['prediction_type'],\n",
    "    prediction_column=experiment_metadata['prediction_column'],\n",
    "    scoring=experiment_metadata['scoring'],\n",
    "    holdout_size=experiment_metadata['holdout_size'],\n",
    "    csv_separator=experiment_metadata['csv_separator'],\n",
    "    drop_duplicates=experiment_metadata['drop_duplicates'],\n",
    "    include_batched_ensemble_estimators=experiment_metadata['include_batched_ensemble_estimators'],\n",
    ")\n",
    "```"
   ]
  },
  {
   "cell_type": "markdown",
   "metadata": {},
   "source": [
    "```\n",
    "pipeline_optimizer.fit(\n",
    "    training_data_references=training_data_references,\n",
    "    training_results_reference=training_result_reference,\n",
    ")\n",
    "```"
   ]
  },
  {
   "cell_type": "markdown",
   "metadata": {},
   "source": [
    "\n",
    "<a id=\"next_steps\"></a>\n",
    "# Next steps\n",
    "You successfully completed this notebook!\n",
    "You learned how to use ibm-watson-machine-learning to run and explore AutoAI experiments.\n",
    "Check out the official [AutoAI site](https://www.ibm.com/cloud/watson-studio/autoai) for more samples, tutorials, documentation, how-tos, and blog posts."
   ]
  },
  {
   "cell_type": "markdown",
   "metadata": {},
   "source": [
    "<a id=\"copyrights\"></a>\n",
    "### Copyrights\n",
    "\n",
    "Licensed Materials - Copyright © 2023 IBM. This notebook and its source code are released under the terms of the ILAN License.\n",
    "Use, duplication disclosure restricted by GSA ADP Schedule Contract with IBM Corp.\n",
    "\n",
    "**Note:** The auto-generated notebooks are subject to the International License Agreement for Non-Warranted Programs (or equivalent) and License Information document for Watson Studio Auto-generated Notebook (License Terms), such agreements located in the link below. Specifically, the Source Components and Sample Materials clause included in the License Information document for Watson Studio Auto-generated Notebook applies to the auto-generated notebooks.  \n",
    "\n",
    "By downloading, copying, accessing, or otherwise using the materials, you agree to the <a href=\"http://www14.software.ibm.com/cgi-bin/weblap/lap.pl?li_formnum=L-AMCU-BYC7LF\">License Terms</a>  \n",
    "\n",
    "___"
   ]
  }
 ],
 "metadata": {
  "kernelspec": {
   "display_name": "Python 3",
   "language": "python",
   "name": "python3"
  },
  "language_info": {
   "codemirror_mode": {
    "name": "ipython",
    "version": 3
   },
   "file_extension": ".py",
   "mimetype": "text/x-python",
   "name": "python",
   "nbconvert_exporter": "python",
   "pygments_lexer": "ipython3",
   "version": "3.8.8"
  },
  "pycharm": {
   "stem_cell": {
    "cell_type": "raw",
    "metadata": {
     "collapsed": false
    },
    "source": [
     "\n"
    ]
   }
  }
 },
 "nbformat": 4,
 "nbformat_minor": 4
}
